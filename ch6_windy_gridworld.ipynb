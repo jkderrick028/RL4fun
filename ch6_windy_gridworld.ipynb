{
 "cells": [
  {
   "cell_type": "markdown",
   "metadata": {},
   "source": [
    "## Windy Gridworld - SARSA (on-policy TD control)"
   ]
  },
  {
   "cell_type": "code",
   "execution_count": 1,
   "metadata": {},
   "outputs": [],
   "source": [
    "import numpy as np \n",
    "import matplotlib.pyplot as plt "
   ]
  },
  {
   "cell_type": "code",
   "execution_count": 2,
   "metadata": {},
   "outputs": [],
   "source": [
    "np.random.seed(2025)\n",
    "n_rows = 7\n",
    "n_cols = 10 \n",
    "start = (3, 0)\n",
    "goal = (3, 7)\n",
    "wind_strengths = np.array([0, 0, 0, 1, 1, 1, 2, 2, 1, 0])"
   ]
  },
  {
   "cell_type": "code",
   "execution_count": 3,
   "metadata": {},
   "outputs": [],
   "source": [
    "def transition(s, a):\n",
    "    x, y = s \n",
    "    if a == 'u':\n",
    "        x = np.max([0, x-1-wind_strengths[y]])\n",
    "    elif a == 'd':\n",
    "        x_prime = x + 1 - wind_strengths[y]\n",
    "        x = np.max([0, x_prime])\n",
    "        x = np.min([x, n_rows-1])\n",
    "    elif a == 'l':\n",
    "        x = np.max([0, x - wind_strengths[y]])\n",
    "        y = np.max([0, y-1])        \n",
    "    elif a == 'r':\n",
    "        x = np.max([0, x - wind_strengths[y]])\n",
    "        y = np.min([y+1, n_cols-1])        \n",
    "    \n",
    "    return (x, y)"
   ]
  },
  {
   "cell_type": "code",
   "execution_count": 4,
   "metadata": {},
   "outputs": [
    {
     "name": "stdout",
     "output_type": "stream",
     "text": [
      "(3, 7)\n"
     ]
    }
   ],
   "source": [
    "s_prime = transition((4, 8), 'l')\n",
    "print(s_prime)"
   ]
  },
  {
   "cell_type": "code",
   "execution_count": 5,
   "metadata": {},
   "outputs": [],
   "source": [
    "epsilon = 0.1\n",
    "alpha = 0.5\n",
    "n_episodes = 250"
   ]
  },
  {
   "cell_type": "code",
   "execution_count": 6,
   "metadata": {},
   "outputs": [],
   "source": [
    "actions = ['u', 'd', 'l', 'r']\n",
    "Qs = {\n",
    "    (x, y): np.zeros(len(actions)) for x in np.arange(n_rows) for y in np.arange(n_cols)\n",
    "}"
   ]
  },
  {
   "cell_type": "code",
   "execution_count": 7,
   "metadata": {},
   "outputs": [],
   "source": [
    "n_steps = 0 \n",
    "counts = np.zeros(n_episodes)\n",
    "trajectory_last_episode = [] \n",
    "\n",
    "for epI in np.arange(n_episodes):\n",
    "    s = start \n",
    "    randnum = np.random.rand()\n",
    "    if randnum > epsilon:\n",
    "        # aI = np.argmax(Qs[s]) \n",
    "        aI = np.random.choice([i for i in np.arange(len(actions)) if Qs[s][i] == np.max(Qs[s])]) \n",
    "    else:\n",
    "        aI = np.random.randint(len(actions))\n",
    "    a = actions[aI]\n",
    "    if epI == n_episodes - 1:\n",
    "        trajectory_last_episode.append(s)\n",
    "        trajectory_last_episode.append(a) \n",
    "    \n",
    "    while s != goal:\n",
    "        s_prime = transition(s, a) \n",
    "        r = -1 \n",
    "\n",
    "        randnum = np.random.rand()\n",
    "        if randnum > epsilon:\n",
    "            # aI_prime = np.argmax(Qs[s_prime])\n",
    "            aI_prime = np.random.choice([i for i in np.arange(len(actions)) if Qs[s_prime][i] == np.max(Qs[s_prime])])\n",
    "        else:\n",
    "            aI_prime = np.random.randint(len(actions))\n",
    "        a_prime = actions[aI_prime]\n",
    "\n",
    "        Qs[s][aI] += alpha * (r + Qs[s_prime][aI_prime] - Qs[s][aI]) \n",
    "\n",
    "        if epI == n_episodes - 1:            \n",
    "            trajectory_last_episode.append(s_prime)\n",
    "            trajectory_last_episode.append(a_prime) \n",
    "\n",
    "        s = s_prime \n",
    "        a = a_prime\n",
    "        aI = aI_prime \n",
    "\n",
    "        n_steps += 1         \n",
    "\n",
    "    counts[epI] = n_steps "
   ]
  },
  {
   "cell_type": "code",
   "execution_count": 8,
   "metadata": {},
   "outputs": [
    {
     "data": {
      "image/png": "[encoded data removed]",
      "text/plain": [
       "<Figure size 640x480 with 1 Axes>"
      ]
     },
     "metadata": {},
     "output_type": "display_data"
    }
   ],
   "source": [
    "fig, ax = plt.subplots() \n",
    "ax.plot(counts, np.arange(n_episodes))\n",
    "ax.set_xlabel('Time steps')\n",
    "ax.set_ylabel('Episodes')\n",
    "ax.set_yticks([0, 50, 100, 150, 170]) \n",
    "ax.set_xticks(np.arange(0, 10000, 1000))\n",
    "ax.spines['top'].set_visible(False)\n",
    "ax.spines['right'].set_visible(False) "
   ]
  },
  {
   "cell_type": "markdown",
   "metadata": {},
   "source": [
    "The increasing slope indicates that the goal is reached more quickly over time. "
   ]
  },
  {
   "cell_type": "code",
   "execution_count": 9,
   "metadata": {},
   "outputs": [
    {
     "name": "stdout",
     "output_type": "stream",
     "text": [
      "[(3, 0), 'r', (3, 1), 'r', (3, 2), 'r', (3, 3), 'r', (2, 4), 'r', (1, 5), 'r', (0, 6), 'r', (0, 7), 'r', (0, 8), 'r', (0, 9), 'd', (1, 9), 'd', (2, 9), 'd', (3, 9), 'd', (4, 9), 'l', (4, 8), 'l', (3, 7), 'd']\n"
     ]
    }
   ],
   "source": [
    "print(trajectory_last_episode)"
   ]
  },
  {
   "cell_type": "code",
   "execution_count": 10,
   "metadata": {},
   "outputs": [
    {
     "data": {
      "text/plain": [
       "32"
      ]
     },
     "execution_count": 10,
     "metadata": {},
     "output_type": "execute_result"
    }
   ],
   "source": [
    "len(trajectory_last_episode)"
   ]
  },
  {
   "cell_type": "code",
   "execution_count": 23,
   "metadata": {},
   "outputs": [
    {
     "data": {
      "text/plain": [
       "array([-17.48510925, -17.80437071, -18.18212454, -17.19488097])"
      ]
     },
     "execution_count": 23,
     "metadata": {},
     "output_type": "execute_result"
    }
   ],
   "source": [
    "Qs[(3,0)]"
   ]
  },
  {
   "cell_type": "code",
   "execution_count": 24,
   "metadata": {},
   "outputs": [
    {
     "data": {
      "text/plain": [
       "array([-16.58581135, -16.70992595, -17.29155365, -15.84790495])"
      ]
     },
     "execution_count": 24,
     "metadata": {},
     "output_type": "execute_result"
    }
   ],
   "source": [
    "Qs[(3,1)]"
   ]
  },
  {
   "cell_type": "code",
   "execution_count": 25,
   "metadata": {},
   "outputs": [
    {
     "data": {
      "text/plain": [
       "array([-15.53841712, -15.64636853, -16.85741595, -14.58433099])"
      ]
     },
     "execution_count": 25,
     "metadata": {},
     "output_type": "execute_result"
    }
   ],
   "source": [
    "Qs[(3,2)]"
   ]
  },
  {
   "cell_type": "code",
   "execution_count": 26,
   "metadata": {},
   "outputs": [
    {
     "data": {
      "text/plain": [
       "array([-14.64691266, -14.88594991, -15.16234883, -13.43591697])"
      ]
     },
     "execution_count": 26,
     "metadata": {},
     "output_type": "execute_result"
    }
   ],
   "source": [
    "Qs[(3,3)]"
   ]
  },
  {
   "cell_type": "code",
   "execution_count": 27,
   "metadata": {},
   "outputs": [
    {
     "data": {
      "text/plain": [
       "array([-13.66334135, -13.84896497, -14.50803138, -12.33312181])"
      ]
     },
     "execution_count": 27,
     "metadata": {},
     "output_type": "execute_result"
    }
   ],
   "source": [
    "Qs[(2,4)]"
   ]
  },
  {
   "cell_type": "code",
   "execution_count": 29,
   "metadata": {},
   "outputs": [
    {
     "data": {
      "text/plain": [
       "array([-13.23459091, -13.4280222 , -12.7820348 , -11.3957094 ])"
      ]
     },
     "execution_count": 29,
     "metadata": {},
     "output_type": "execute_result"
    }
   ],
   "source": [
    "Qs[(1,5)]"
   ]
  },
  {
   "cell_type": "code",
   "execution_count": 30,
   "metadata": {},
   "outputs": [
    {
     "data": {
      "text/plain": [
       "array([-11.61119512, -13.52307337, -13.83543508, -10.91953128])"
      ]
     },
     "execution_count": 30,
     "metadata": {},
     "output_type": "execute_result"
    }
   ],
   "source": [
    "Qs[(0,6)]"
   ]
  },
  {
   "cell_type": "code",
   "execution_count": 31,
   "metadata": {},
   "outputs": [
    {
     "data": {
      "text/plain": [
       "array([-11.63828116, -11.27059651, -11.8647528 ,  -9.87646985])"
      ]
     },
     "execution_count": 31,
     "metadata": {},
     "output_type": "execute_result"
    }
   ],
   "source": [
    "Qs[(0,7)]"
   ]
  },
  {
   "cell_type": "code",
   "execution_count": 32,
   "metadata": {},
   "outputs": [
    {
     "data": {
      "text/plain": [
       "array([-10.07682389,  -9.77650284, -10.09356895,  -8.30075862])"
      ]
     },
     "execution_count": 32,
     "metadata": {},
     "output_type": "execute_result"
    }
   ],
   "source": [
    "Qs[(0,8)]"
   ]
  },
  {
   "cell_type": "code",
   "execution_count": 33,
   "metadata": {},
   "outputs": [
    {
     "data": {
      "text/plain": [
       "array([-7.98060901, -7.22335071, -9.94131448, -9.34492891])"
      ]
     },
     "execution_count": 33,
     "metadata": {},
     "output_type": "execute_result"
    }
   ],
   "source": [
    "Qs[(0,9)]"
   ]
  },
  {
   "cell_type": "code",
   "execution_count": 34,
   "metadata": {},
   "outputs": [
    {
     "data": {
      "text/plain": [
       "array([-10.09645249,  -6.00970631,  -8.83923988,  -7.20295952])"
      ]
     },
     "execution_count": 34,
     "metadata": {},
     "output_type": "execute_result"
    }
   ],
   "source": [
    "Qs[(1,9)]"
   ]
  },
  {
   "cell_type": "code",
   "execution_count": 35,
   "metadata": {},
   "outputs": [
    {
     "data": {
      "text/plain": [
       "array([-8.07489014, -4.41101617, -7.73053301, -7.99581875])"
      ]
     },
     "execution_count": 35,
     "metadata": {},
     "output_type": "execute_result"
    }
   ],
   "source": [
    "Qs[(2,9)]"
   ]
  },
  {
   "cell_type": "code",
   "execution_count": 36,
   "metadata": {},
   "outputs": [
    {
     "data": {
      "text/plain": [
       "array([-7.67746592, -3.02522583, -7.14832878, -4.80206002])"
      ]
     },
     "execution_count": 36,
     "metadata": {},
     "output_type": "execute_result"
    }
   ],
   "source": [
    "Qs[(3,9)]"
   ]
  },
  {
   "cell_type": "code",
   "execution_count": 37,
   "metadata": {},
   "outputs": [
    {
     "data": {
      "text/plain": [
       "array([-5.14079667, -4.87190667, -2.00048786, -3.78914383])"
      ]
     },
     "execution_count": 37,
     "metadata": {},
     "output_type": "execute_result"
    }
   ],
   "source": [
    "Qs[(4,9)]"
   ]
  },
  {
   "cell_type": "code",
   "execution_count": 39,
   "metadata": {},
   "outputs": [
    {
     "data": {
      "text/plain": [
       "array([-7.64058731, -1.99957275, -1.        , -3.97726152])"
      ]
     },
     "execution_count": 39,
     "metadata": {},
     "output_type": "execute_result"
    }
   ],
   "source": [
    "Qs[(4,8)]"
   ]
  },
  {
   "cell_type": "code",
   "execution_count": 40,
   "metadata": {},
   "outputs": [
    {
     "data": {
      "text/plain": [
       "array([0., 0., 0., 0.])"
      ]
     },
     "execution_count": 40,
     "metadata": {},
     "output_type": "execute_result"
    }
   ],
   "source": [
    "Qs[(3,7)]"
   ]
  },
  {
   "cell_type": "code",
   "execution_count": null,
   "metadata": {},
   "outputs": [],
   "source": []
  }
 ],
 "metadata": {
  "kernelspec": {
   "display_name": "ai4fun",
   "language": "python",
   "name": "python3"
  },
  "language_info": {
   "codemirror_mode": {
    "name": "ipython",
    "version": 3
   },
   "file_extension": ".py",
   "mimetype": "text/x-python",
   "name": "python",
   "nbconvert_exporter": "python",
   "pygments_lexer": "ipython3",
   "version": "3.12.2"
  }
 },
 "nbformat": 4,
 "nbformat_minor": 2
}
