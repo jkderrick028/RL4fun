{
 "cells": [
  {
   "cell_type": "markdown",
   "metadata": {},
   "source": [
    "## Cliff walking example, comparing off-policy Q-learning and on-policy SARSA"
   ]
  },
  {
   "cell_type": "code",
   "execution_count": 1,
   "metadata": {},
   "outputs": [],
   "source": [
    "import numpy as np \n",
    "import matplotlib.pyplot as plt \n",
    "\n",
    "%matplotlib inline "
   ]
  },
  {
   "cell_type": "code",
   "execution_count": 2,
   "metadata": {},
   "outputs": [],
   "source": [
    "np.random.seed(2025)\n",
    "\n",
    "n_rows = 4\n",
    "n_cols = 12\n",
    "\n",
    "gridworld = np.zeros((n_rows, n_cols))\n",
    "gridworld[3, 0] = 1     # start\n",
    "gridworld[3, -1] = 2    # end \n",
    "gridworld[3, 1:-1] = -1 # cliff "
   ]
  },
  {
   "cell_type": "code",
   "execution_count": 3,
   "metadata": {},
   "outputs": [
    {
     "data": {
      "text/plain": [
       "array([[ 0.,  0.,  0.,  0.,  0.,  0.,  0.,  0.,  0.,  0.,  0.,  0.],\n",
       "       [ 0.,  0.,  0.,  0.,  0.,  0.,  0.,  0.,  0.,  0.,  0.,  0.],\n",
       "       [ 0.,  0.,  0.,  0.,  0.,  0.,  0.,  0.,  0.,  0.,  0.,  0.],\n",
       "       [ 1., -1., -1., -1., -1., -1., -1., -1., -1., -1., -1.,  2.]])"
      ]
     },
     "execution_count": 3,
     "metadata": {},
     "output_type": "execute_result"
    }
   ],
   "source": [
    "gridworld"
   ]
  },
  {
   "cell_type": "code",
   "execution_count": 4,
   "metadata": {},
   "outputs": [],
   "source": [
    "def transition(s, a): \n",
    "    \"\"\"\n",
    "    from state s, take action a, return s' \n",
    "\n",
    "    Arguments:\n",
    "        s: int tuple, (row, col)\n",
    "        a: str, 'l', 'r', 'u', 'd'\n",
    "    Returns\n",
    "        s_prime: int tuple \n",
    "    \"\"\"\n",
    "\n",
    "    x, y = s \n",
    "\n",
    "    if a == 'u':\n",
    "        s_prime = (np.max([x-1, 0]), y)\n",
    "    elif a == 'd':\n",
    "        s_prime = (np.min([x+1, n_rows-1]), y)\n",
    "    elif a == 'l':\n",
    "        s_prime = (x, np.max([y-1, 0]))\n",
    "    elif a == 'r':\n",
    "        s_prime = (x, np.min([y+1, n_cols-1]))\n",
    "    \n",
    "    return s_prime"
   ]
  },
  {
   "cell_type": "code",
   "execution_count": 5,
   "metadata": {},
   "outputs": [
    {
     "name": "stdout",
     "output_type": "stream",
     "text": [
      "(3, 3)\n"
     ]
    }
   ],
   "source": [
    "s_prime = transition((3, 3), 'd')\n",
    "print(s_prime)"
   ]
  },
  {
   "cell_type": "code",
   "execution_count": 6,
   "metadata": {},
   "outputs": [],
   "source": [
    "def reward(s):\n",
    "    if gridworld[s] == -1:\n",
    "        r = -100 \n",
    "    else:\n",
    "        r = -1 \n",
    "    \n",
    "    return r "
   ]
  },
  {
   "cell_type": "code",
   "execution_count": 7,
   "metadata": {},
   "outputs": [],
   "source": [
    "actions = ['u', 'd', 'l', 'r']\n",
    "epsilon = 0.1"
   ]
  },
  {
   "cell_type": "code",
   "execution_count": 8,
   "metadata": {},
   "outputs": [],
   "source": [
    "def choose_action(s):\n",
    "    randnum = np.random.rand()\n",
    "    if randnum < epsilon:\n",
    "        aI = np.random.choice(len(actions))\n",
    "    else:\n",
    "        vals = Qs[s] \n",
    "        aI = np.random.choice([action_ for action_, value_ in enumerate(vals) if value_ == np.max(vals)])\n",
    "    return aI "
   ]
  },
  {
   "cell_type": "code",
   "execution_count": 21,
   "metadata": {},
   "outputs": [],
   "source": [
    "# Q-learning \n",
    "\n",
    "n_episodes = 1000\n",
    "alpha = 0.1\n",
    "sum_of_rewards = [] \n",
    "n_runs = 10 \n",
    "\n",
    "for runI in np.arange(n_runs):\n",
    "    rewards_this_run = [] \n",
    "    Qs = {(r, c):np.zeros(len(actions)) for r in np.arange(n_rows) for c in np.arange(n_cols)}\n",
    "\n",
    "    for epiI in np.arange(n_episodes):\n",
    "        s = (n_rows-1, 0)\n",
    "        sum_r = 0 \n",
    "        while gridworld[s] != 2:\n",
    "            aI = choose_action(s) \n",
    "            a = actions[aI] \n",
    "            s_prime = transition(s, a) \n",
    "            r = reward(s_prime)\n",
    "\n",
    "            Qs[s][aI] = Qs[s][aI] + alpha * (r + np.max(Qs[s_prime]) - Qs[s][aI])\n",
    "            sum_r += r \n",
    "\n",
    "            if gridworld[s_prime] == -1: \n",
    "                s = (n_rows-1, 0)\n",
    "            else:\n",
    "                s = s_prime\n",
    "\n",
    "        rewards_this_run.append(sum_r)\n",
    "    sum_of_rewards.append(np.array(rewards_this_run))"
   ]
  },
  {
   "cell_type": "code",
   "execution_count": 22,
   "metadata": {},
   "outputs": [
    {
     "data": {
      "text/plain": [
       "{(0, 0): array([-11.61582496, -11.54176272, -11.55292001, -11.57588257]),\n",
       " (0, 1): array([-11.04014246, -11.16155637, -11.04282284, -11.05244043]),\n",
       " (0, 2): array([-10.39588798, -10.44653527, -10.43666909, -10.38044961]),\n",
       " (0, 3): array([-9.65743257, -9.64866827, -9.70505121, -9.65377821]),\n",
       " (0, 4): array([-8.85307932, -8.88384044, -8.95436662, -8.84659123]),\n",
       " (0, 5): array([-8.0611834 , -8.0658789 , -8.1149384 , -8.03803958]),\n",
       " (0, 6): array([-7.19112455, -7.27367461, -7.35012516, -7.20330808]),\n",
       " (0, 7): array([-6.37761383, -6.40634414, -6.51727957, -6.36638569]),\n",
       " (0, 8): array([-5.57228512, -5.51799095, -5.73066603, -5.50024682]),\n",
       " (0, 9): array([-4.67224682, -4.65613515, -4.83465482, -4.66129364]),\n",
       " (0, 10): array([-3.85773505, -3.82187996, -3.81611836, -3.82279158]),\n",
       " (0, 11): array([-3.        , -2.96036387, -3.1397166 , -2.97655086]),\n",
       " (1, 0): array([-12.05978165, -12.09240048, -12.16254543, -12.09128523]),\n",
       " (1, 1): array([-11.42039668, -11.38839574, -11.53091967, -11.40267451]),\n",
       " (1, 2): array([-10.68131215, -10.61319953, -10.70324719, -10.6179124 ]),\n",
       " (1, 3): array([ -9.82885539,  -9.78485037, -10.04755965,  -9.76478986]),\n",
       " (1, 4): array([-8.90294617, -8.84634659, -9.22720228, -8.84840405]),\n",
       " (1, 5): array([-8.02080708, -7.91764858, -8.05886108, -7.90978264]),\n",
       " (1, 6): array([-7.0523678 , -6.9537397 , -7.26417248, -6.94943526]),\n",
       " (1, 7): array([-6.25574346, -5.97075556, -6.35141743, -5.97180944]),\n",
       " (1, 8): array([-5.11872865, -4.98680881, -5.50648999, -4.98631672]),\n",
       " (1, 9): array([-4.47824726, -3.99446106, -4.45901832, -3.99444852]),\n",
       " (1, 10): array([-3.54530484, -2.99906333, -3.06761989, -2.99909725]),\n",
       " (1, 11): array([-2.3512028 , -1.9999992 , -2.16940524, -2.18803305]),\n",
       " (2, 0): array([-12.85023958, -13.93620395, -12.87894253, -12.        ]),\n",
       " (2, 1): array([-11.99456541, -93.53891811, -12.56379725, -11.        ]),\n",
       " (2, 2): array([-11.27294332, -92.02335569, -11.88733431, -10.        ]),\n",
       " (2, 3): array([-10.48318642, -94.1850263 , -10.64666263,  -9.        ]),\n",
       " (2, 4): array([ -9.5542003 , -95.76088417,  -9.80297556,  -8.        ]),\n",
       " (2, 5): array([ -8.52624048, -95.2898713 ,  -8.77200753,  -7.        ]),\n",
       " (2, 6): array([ -7.50775742, -93.53891811,  -7.76533019,  -6.        ]),\n",
       " (2, 7): array([ -6.79477297, -94.1850263 ,  -6.82488253,  -5.        ]),\n",
       " (2, 8): array([ -5.60615671, -90.15229098,  -5.76066045,  -4.        ]),\n",
       " (2, 9): array([ -4.85743681, -95.76088417,  -4.89119423,  -3.        ]),\n",
       " (2, 10): array([ -3.90269719, -81.46979811,  -3.96176593,  -2.        ]),\n",
       " (2, 11): array([-2.87180429, -1.        , -2.82913696, -1.90152291]),\n",
       " (3, 0): array([-13.        , -13.86449378, -13.89773451, -99.53616023]),\n",
       " (3, 1): array([0., 0., 0., 0.]),\n",
       " (3, 2): array([0., 0., 0., 0.]),\n",
       " (3, 3): array([0., 0., 0., 0.]),\n",
       " (3, 4): array([0., 0., 0., 0.]),\n",
       " (3, 5): array([0., 0., 0., 0.]),\n",
       " (3, 6): array([0., 0., 0., 0.]),\n",
       " (3, 7): array([0., 0., 0., 0.]),\n",
       " (3, 8): array([0., 0., 0., 0.]),\n",
       " (3, 9): array([0., 0., 0., 0.]),\n",
       " (3, 10): array([0., 0., 0., 0.]),\n",
       " (3, 11): array([0., 0., 0., 0.])}"
      ]
     },
     "execution_count": 22,
     "metadata": {},
     "output_type": "execute_result"
    }
   ],
   "source": [
    "Qs "
   ]
  },
  {
   "cell_type": "code",
   "execution_count": 23,
   "metadata": {},
   "outputs": [
    {
     "data": {
      "image/png": "[encoded data removed]",
      "text/plain": [
       "<Figure size 640x480 with 1 Axes>"
      ]
     },
     "metadata": {},
     "output_type": "display_data"
    }
   ],
   "source": [
    "sum_of_rewards = np.array(sum_of_rewards)\n",
    "\n",
    "plt.plot(sum_of_rewards.mean(axis=0)[5:])\n",
    "plt.show() "
   ]
  },
  {
   "cell_type": "code",
   "execution_count": null,
   "metadata": {},
   "outputs": [],
   "source": []
  },
  {
   "cell_type": "code",
   "execution_count": null,
   "metadata": {},
   "outputs": [],
   "source": []
  },
  {
   "cell_type": "code",
   "execution_count": null,
   "metadata": {},
   "outputs": [],
   "source": [
    "def q_learning(env, ep, gamma, alpha, eps):\n",
    "    \"\"\"Q-Learning (off-policy TD control)\n",
    "    \n",
    "    Params:\n",
    "        env - environment\n",
    "        ep - number of episodes to run\n",
    "        gamma - discount factor [0..1]\n",
    "        alpha - step size (0..1]\n",
    "        eps - epsilon-greedy param\n",
    "    \"\"\"\n",
    "    def policy(st, Q, eps):\n",
    "        if np.random.rand() > eps:\n",
    "            return argmax_rand([Q[st,a] for a in env.act_space])\n",
    "        else:\n",
    "            return np.random.choice(env.act_space)\n",
    "    \n",
    "    Q = defaultdict(float)  # default zero for all, terminal MUST be zero\n",
    "    \n",
    "    for _ in range(ep):\n",
    "        S = env.reset()\n",
    "        while True:\n",
    "            A = policy(S, Q, eps)\n",
    "            S_, R, done = env.step(A)\n",
    "            max_Q = np.max([Q[S_,a] for a in env.act_space])\n",
    "            Q[S,A] = Q[S,A] + alpha * (R + gamma * max_Q - Q[S,A])\n",
    "            S = S_\n",
    "            if done: break\n",
    "                            \n",
    "    return Q"
   ]
  },
  {
   "cell_type": "code",
   "execution_count": null,
   "metadata": {},
   "outputs": [],
   "source": [
    "def argmax_rand(arr):\n",
    "    # break ties randomly, np.argmax() always picks first max\n",
    "    return np.random.choice(np.flatnonzero(arr == np.max(arr)))"
   ]
  },
  {
   "cell_type": "code",
   "execution_count": null,
   "metadata": {},
   "outputs": [],
   "source": [
    "class CliffWalkingEnv:\n",
    "    def __init__(self):\n",
    "        self.act_space = [0, 1, 2, 3]  # LEFT = 0, DOWN = 1, RIGHT = 2, UP = 3\n",
    "        self.reset()\n",
    "        \n",
    "    def reset(self):\n",
    "        self._x, self._y = 0, 0        # agent initial position\n",
    "        return (0, 0)\n",
    "        \n",
    "    def step(self, action):\n",
    "        \"\"\"actions: LEFT = 0, DOWN = 1, RIGHT = 2, UP = 3\"\"\"\n",
    "        self._x, self._y = self.transition(self._x, self._y, action)\n",
    "        \n",
    "        if self._x in range(1,11) and self._y == 0:  # CLIFF spanning x=[1..10]\n",
    "            self._x, self._y = 0, 0                  #  teleport to start\n",
    "            return (self._x, self._y), -100, False   #  return -100 reward\n",
    "        if self._x == 11 and self._y == 0:           # GOAL at (11,0)\n",
    "            return (self._x, self._y), -1, True      #  -1, terminate\n",
    "        return (self._x, self._y), -1, False         # NORMAL states\n",
    "        \n",
    "    def transition(self, x, y, action):\n",
    "        \"\"\"Perform transition from [x,y] given action. Does not teleport.\"\"\"\n",
    "        \n",
    "        if action == 0:    x -= 1     # left\n",
    "        elif action == 1:  y -= 1     # down\n",
    "        elif action == 2:  x += 1     # right\n",
    "        elif action == 3:  y += 1     # up\n",
    "        else: raise ValueError('Action must be in [0,1,2,3]')\n",
    "            \n",
    "        x = np.clip(x, 0, 11)   # x range is [0..11] incl.\n",
    "        y = np.clip(y, 0, 3)    # y range is [0..3] incl.\n",
    "        return x, y\n",
    "    \n",
    "    def get_path(self, Q):\n",
    "        \"\"\"Returns a path agent would take, if following greedy Q-based policy\"\"\"\n",
    "        x, y = 0, 0       # agent starting position\n",
    "        path = [(x, y)]   # save starting position\n",
    "        for _ in range(100):  # limit steps in case policy is loopy\n",
    "            A_star = np.argmax([Q[(x,y),a] for a in [0, 1, 2, 3]])   # pick best action\n",
    "            x, y = self.transition(x, y, A_star)         # take one step\n",
    "            path.append((x,y))                           # save to path\n",
    "            if x in range(1,11) and y == 0:              # CLIFF\n",
    "                path.append((0, 0))                      # teleport\n",
    "            if x == 11 and y == 0:  break                # GOAL at (11,0)\n",
    "        return path"
   ]
  },
  {
   "cell_type": "code",
   "execution_count": null,
   "metadata": {},
   "outputs": [],
   "source": []
  },
  {
   "cell_type": "code",
   "execution_count": null,
   "metadata": {},
   "outputs": [],
   "source": []
  },
  {
   "cell_type": "code",
   "execution_count": null,
   "metadata": {},
   "outputs": [],
   "source": []
  }
 ],
 "metadata": {
  "kernelspec": {
   "display_name": "ai4fun",
   "language": "python",
   "name": "python3"
  },
  "language_info": {
   "codemirror_mode": {
    "name": "ipython",
    "version": 3
   },
   "file_extension": ".py",
   "mimetype": "text/x-python",
   "name": "python",
   "nbconvert_exporter": "python",
   "pygments_lexer": "ipython3",
   "version": "3.12.2"
  }
 },
 "nbformat": 4,
 "nbformat_minor": 2
}
